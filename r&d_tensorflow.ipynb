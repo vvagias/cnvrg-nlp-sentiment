{
 "cells": [
  {
   "cell_type": "code",
   "execution_count": 1,
   "id": "11154923",
   "metadata": {},
   "outputs": [
    {
     "name": "stderr",
     "output_type": "stream",
     "text": [
      "No model was supplied, defaulted to distilbert-base-uncased-finetuned-sst-2-english (https://huggingface.co/distilbert-base-uncased-finetuned-sst-2-english)\n"
     ]
    },
    {
     "data": {
      "application/vnd.jupyter.widget-view+json": {
       "model_id": "bc774947ebea4f3bb891fffdd222374f",
       "version_major": 2,
       "version_minor": 0
      },
      "text/plain": [
       "HBox(children=(HTML(value='Downloading'), FloatProgress(value=0.0, max=629.0), HTML(value='')))"
      ]
     },
     "metadata": {},
     "output_type": "display_data"
    },
    {
     "name": "stdout",
     "output_type": "stream",
     "text": [
      "\n"
     ]
    },
    {
     "data": {
      "application/vnd.jupyter.widget-view+json": {
       "model_id": "7e2682c91a7f4fbf87ec43cb46d23597",
       "version_major": 2,
       "version_minor": 0
      },
      "text/plain": [
       "HBox(children=(HTML(value='Downloading'), FloatProgress(value=0.0, max=267844284.0), HTML(value='')))"
      ]
     },
     "metadata": {},
     "output_type": "display_data"
    },
    {
     "name": "stdout",
     "output_type": "stream",
     "text": [
      "\n"
     ]
    },
    {
     "data": {
      "application/vnd.jupyter.widget-view+json": {
       "model_id": "f9ac62af04544bc8b1ed018690d73248",
       "version_major": 2,
       "version_minor": 0
      },
      "text/plain": [
       "HBox(children=(HTML(value='Downloading'), FloatProgress(value=0.0, max=48.0), HTML(value='')))"
      ]
     },
     "metadata": {},
     "output_type": "display_data"
    },
    {
     "name": "stdout",
     "output_type": "stream",
     "text": [
      "\n"
     ]
    },
    {
     "data": {
      "application/vnd.jupyter.widget-view+json": {
       "model_id": "ab491c37bfbc4b94a1e097801b0dc491",
       "version_major": 2,
       "version_minor": 0
      },
      "text/plain": [
       "HBox(children=(HTML(value='Downloading'), FloatProgress(value=0.0, max=231508.0), HTML(value='')))"
      ]
     },
     "metadata": {},
     "output_type": "display_data"
    },
    {
     "name": "stdout",
     "output_type": "stream",
     "text": [
      "\n"
     ]
    }
   ],
   "source": [
    "from transformers import pipeline\n",
    "classifier = pipeline('sentiment-analysis')"
   ]
  },
  {
   "cell_type": "code",
   "execution_count": 2,
   "id": "3e6c55ac",
   "metadata": {},
   "outputs": [
    {
     "data": {
      "text/plain": [
       "[{'label': 'POSITIVE', 'score': 0.9998784065246582}]"
      ]
     },
     "execution_count": 2,
     "metadata": {},
     "output_type": "execute_result"
    }
   ],
   "source": [
    "classifier('this is amazing')"
   ]
  },
  {
   "cell_type": "code",
   "execution_count": 2,
   "id": "fc635543",
   "metadata": {},
   "outputs": [
    {
     "name": "stderr",
     "output_type": "stream",
     "text": [
      "<>:10: SyntaxWarning: \"is\" with a literal. Did you mean \"==\"?\n",
      "<>:10: SyntaxWarning: \"is\" with a literal. Did you mean \"==\"?\n",
      "/tmp/ipykernel_639/3871364295.py:10: SyntaxWarning: \"is\" with a literal. Did you mean \"==\"?\n",
      "  labels.append(0 if label_dir is \"neg\" else 1)\n"
     ]
    }
   ],
   "source": [
    "from pathlib import Path\n",
    "\n",
    "def read_imdb_split(split_dir):\n",
    "    split_dir = Path(split_dir)\n",
    "    texts = []\n",
    "    labels = []\n",
    "    for label_dir in [\"pos\", \"neg\"]:\n",
    "        for text_file in (split_dir/label_dir).iterdir():\n",
    "            texts.append(text_file.read_text())\n",
    "            labels.append(0 if label_dir is \"neg\" else 1)\n",
    "\n",
    "    return texts, labels\n",
    "\n",
    "train_texts, train_labels = read_imdb_split('/data/aclimdb/train')\n",
    "test_texts, test_labels = read_imdb_split('/data/aclimdb/test')"
   ]
  },
  {
   "cell_type": "code",
   "execution_count": 3,
   "id": "da4fbc55",
   "metadata": {},
   "outputs": [],
   "source": [
    "from sklearn.model_selection import train_test_split\n",
    "train_texts, val_texts, train_labels, val_labels = train_test_split(train_texts, train_labels, test_size=.2)"
   ]
  },
  {
   "cell_type": "code",
   "execution_count": 4,
   "id": "671521a8",
   "metadata": {},
   "outputs": [
    {
     "data": {
      "application/vnd.jupyter.widget-view+json": {
       "model_id": "4e5c2b6edb514691a03171adc1ad69b9",
       "version_major": 2,
       "version_minor": 0
      },
      "text/plain": [
       "Downloading:   0%|          | 0.00/226k [00:00<?, ?B/s]"
      ]
     },
     "metadata": {},
     "output_type": "display_data"
    },
    {
     "data": {
      "application/vnd.jupyter.widget-view+json": {
       "model_id": "0abd32a81dbb4a309cd1e6386ecfd071",
       "version_major": 2,
       "version_minor": 0
      },
      "text/plain": [
       "Downloading:   0%|          | 0.00/455k [00:00<?, ?B/s]"
      ]
     },
     "metadata": {},
     "output_type": "display_data"
    },
    {
     "data": {
      "application/vnd.jupyter.widget-view+json": {
       "model_id": "662c5ad788154732a33a9d05d8b9cc38",
       "version_major": 2,
       "version_minor": 0
      },
      "text/plain": [
       "Downloading:   0%|          | 0.00/28.0 [00:00<?, ?B/s]"
      ]
     },
     "metadata": {},
     "output_type": "display_data"
    },
    {
     "data": {
      "application/vnd.jupyter.widget-view+json": {
       "model_id": "57bc09e92f954027a6092d4ab1224c1a",
       "version_major": 2,
       "version_minor": 0
      },
      "text/plain": [
       "Downloading:   0%|          | 0.00/483 [00:00<?, ?B/s]"
      ]
     },
     "metadata": {},
     "output_type": "display_data"
    }
   ],
   "source": [
    "from transformers import DistilBertTokenizerFast\n",
    "tokenizer = DistilBertTokenizerFast.from_pretrained('distilbert-base-uncased')"
   ]
  },
  {
   "cell_type": "code",
   "execution_count": 5,
   "id": "b83d867c",
   "metadata": {},
   "outputs": [],
   "source": [
    "train_encodings = tokenizer(train_texts, truncation=True, padding=True)\n",
    "val_encodings = tokenizer(val_texts, truncation=True, padding=True)\n",
    "test_encodings = tokenizer(test_texts, truncation=True, padding=True)"
   ]
  },
  {
   "cell_type": "code",
   "execution_count": 6,
   "id": "b91baa9d",
   "metadata": {},
   "outputs": [
    {
     "name": "stderr",
     "output_type": "stream",
     "text": [
      "2021-10-01 19:27:18.047163: I tensorflow/core/platform/cpu_feature_guard.cc:142] This TensorFlow binary is optimized with oneAPI Deep Neural Network Library (oneDNN) to use the following CPU instructions in performance-critical operations:  AVX2 AVX512F FMA\n",
      "To enable them in other operations, rebuild TensorFlow with the appropriate compiler flags.\n",
      "\n",
      "User settings:\n",
      "\n",
      "   KMP_AFFINITY=granularity=fine,verbose,compact,1,0\n",
      "   KMP_BLOCKTIME=1\n",
      "   KMP_DUPLICATE_LIB_OK=True\n",
      "   KMP_INIT_AT_FORK=FALSE\n",
      "   KMP_SETTINGS=1\n",
      "\n",
      "Effective settings:\n",
      "\n",
      "   KMP_ABORT_DELAY=0\n",
      "   KMP_ADAPTIVE_LOCK_PROPS='1,1024'\n",
      "   KMP_ALIGN_ALLOC=64\n",
      "   KMP_ALL_THREADPRIVATE=192\n",
      "   KMP_ATOMIC_MODE=2\n",
      "   KMP_BLOCKTIME=1\n",
      "   KMP_CPUINFO_FILE: value is not defined\n",
      "   KMP_DETERMINISTIC_REDUCTION=false\n",
      "   KMP_DEVICE_THREAD_LIMIT=2147483647\n",
      "   KMP_DISP_NUM_BUFFERS=7\n",
      "   KMP_DUPLICATE_LIB_OK=true\n",
      "   KMP_ENABLE_TASK_THROTTLING=true\n",
      "   KMP_FORCE_REDUCTION: value is not defined\n",
      "   KMP_FOREIGN_THREADS_THREADPRIVATE=true\n",
      "   KMP_FORKJOIN_BARRIER='2,2'\n",
      "   KMP_FORKJOIN_BARRIER_PATTERN='hyper,hyper'\n",
      "   KMP_GTID_MODE=3\n",
      "   KMP_HANDLE_SIGNALS=false\n",
      "   KMP_HOT_TEAMS_MAX_LEVEL=1\n",
      "   KMP_HOT_TEAMS_MODE=0\n",
      "   KMP_INIT_AT_FORK=true\n",
      "   KMP_LIBRARY=throughput\n",
      "   KMP_LOCK_KIND=queuing\n",
      "   KMP_MALLOC_POOL_INCR=1M\n",
      "   KMP_NUM_LOCKS_IN_BLOCK=1\n",
      "   KMP_PLAIN_BARRIER='2,2'\n",
      "   KMP_PLAIN_BARRIER_PATTERN='hyper,hyper'\n",
      "   KMP_REDUCTION_BARRIER='1,1'\n",
      "   KMP_REDUCTION_BARRIER_PATTERN='hyper,hyper'\n",
      "   KMP_SCHEDULE='static,balanced;guided,iterative'\n",
      "   KMP_SETTINGS=true\n",
      "   KMP_SPIN_BACKOFF_PARAMS='4096,100'\n",
      "   KMP_STACKOFFSET=64\n",
      "   KMP_STACKPAD=0\n",
      "   KMP_STACKSIZE=10M\n",
      "   KMP_STORAGE_MAP=false\n",
      "   KMP_TASKING=2\n",
      "   KMP_TASKLOOP_MIN_TASKS=0\n",
      "   KMP_TASK_STEALING_CONSTRAINT=1\n",
      "   KMP_TEAMS_THREAD_LIMIT=48\n",
      "   KMP_TOPOLOGY_METHOD=all\n",
      "   KMP_USE_YIELD=1\n",
      "   KMP_VERSION=false\n",
      "   KMP_WARNINGS=true\n",
      "   OMP_AFFINITY_FORMAT='OMP: pid %P tid %i thread %n bound to OS proc set {%A}'\n",
      "   OMP_ALLOCATOR=omp_default_mem_alloc\n",
      "   OMP_CANCELLATION=false\n",
      "   OMP_DEFAULT_DEVICE=0\n",
      "   OMP_DISPLAY_AFFINITY=false\n",
      "   OMP_DISPLAY_ENV=false\n",
      "   OMP_DYNAMIC=false\n",
      "   OMP_MAX_ACTIVE_LEVELS=1\n",
      "   OMP_MAX_TASK_PRIORITY=0\n",
      "   OMP_NESTED: deprecated; max-active-levels-var=1\n",
      "   OMP_NUM_THREADS: value is not defined\n",
      "   OMP_PLACES: value is not defined\n",
      "   OMP_PROC_BIND='intel'\n",
      "   OMP_SCHEDULE='static'\n",
      "   OMP_STACKSIZE=10M\n",
      "   OMP_TARGET_OFFLOAD=DEFAULT\n",
      "   OMP_THREAD_LIMIT=2147483647\n",
      "   OMP_WAIT_POLICY=PASSIVE\n",
      "   KMP_AFFINITY='verbose,warnings,respect,granularity=fine,compact,1,0'\n",
      "\n",
      "2021-10-01 19:27:18.051069: I tensorflow/core/common_runtime/process_util.cc:146] Creating new thread pool with default inter op setting: 2. Tune using inter_op_parallelism_threads for best performance.\n"
     ]
    }
   ],
   "source": [
    "import tensorflow as tf\n",
    "\n",
    "train_dataset = tf.data.Dataset.from_tensor_slices((\n",
    "    dict(train_encodings),\n",
    "    train_labels\n",
    "))\n",
    "val_dataset = tf.data.Dataset.from_tensor_slices((\n",
    "    dict(val_encodings),\n",
    "    val_labels\n",
    "))\n",
    "test_dataset = tf.data.Dataset.from_tensor_slices((\n",
    "    dict(test_encodings),\n",
    "    test_labels\n",
    "))"
   ]
  },
  {
   "cell_type": "code",
   "execution_count": 7,
   "id": "65447b2b",
   "metadata": {},
   "outputs": [
    {
     "data": {
      "application/vnd.jupyter.widget-view+json": {
       "model_id": "a373412d0265406fa853cdbe5a7628e7",
       "version_major": 2,
       "version_minor": 0
      },
      "text/plain": [
       "Downloading:   0%|          | 0.00/347M [00:00<?, ?B/s]"
      ]
     },
     "metadata": {},
     "output_type": "display_data"
    },
    {
     "name": "stderr",
     "output_type": "stream",
     "text": [
      "2021-10-01 19:28:13.343321: W tensorflow/python/util/util.cc:348] Sets are not currently considered sequences, but this may change in the future, so consider avoiding using them.\n",
      "OMP: Info #211: KMP_AFFINITY: decoding x2APIC ids.\n",
      "OMP: Info #209: KMP_AFFINITY: Affinity capable, using global cpuid leaf 11 info\n",
      "OMP: Info #154: KMP_AFFINITY: Initial OS proc set respected: 0-47\n",
      "OMP: Info #156: KMP_AFFINITY: 48 available OS procs\n",
      "OMP: Info #157: KMP_AFFINITY: Uniform topology\n",
      "OMP: Info #179: KMP_AFFINITY: 1 packages x 24 cores/pkg x 2 threads/core (24 total cores)\n",
      "OMP: Info #213: KMP_AFFINITY: OS proc to physical thread map:\n",
      "OMP: Info #171: KMP_AFFINITY: OS proc 0 maps to package 0 core 0 thread 0 \n",
      "OMP: Info #171: KMP_AFFINITY: OS proc 24 maps to package 0 core 0 thread 1 \n",
      "OMP: Info #171: KMP_AFFINITY: OS proc 1 maps to package 0 core 1 thread 0 \n",
      "OMP: Info #171: KMP_AFFINITY: OS proc 25 maps to package 0 core 1 thread 1 \n",
      "OMP: Info #171: KMP_AFFINITY: OS proc 2 maps to package 0 core 2 thread 0 \n",
      "OMP: Info #171: KMP_AFFINITY: OS proc 26 maps to package 0 core 2 thread 1 \n",
      "OMP: Info #171: KMP_AFFINITY: OS proc 3 maps to package 0 core 3 thread 0 \n",
      "OMP: Info #171: KMP_AFFINITY: OS proc 27 maps to package 0 core 3 thread 1 \n",
      "OMP: Info #171: KMP_AFFINITY: OS proc 4 maps to package 0 core 4 thread 0 \n",
      "OMP: Info #171: KMP_AFFINITY: OS proc 28 maps to package 0 core 4 thread 1 \n",
      "OMP: Info #171: KMP_AFFINITY: OS proc 5 maps to package 0 core 5 thread 0 \n",
      "OMP: Info #171: KMP_AFFINITY: OS proc 29 maps to package 0 core 5 thread 1 \n",
      "OMP: Info #171: KMP_AFFINITY: OS proc 6 maps to package 0 core 6 thread 0 \n",
      "OMP: Info #171: KMP_AFFINITY: OS proc 30 maps to package 0 core 6 thread 1 \n",
      "OMP: Info #171: KMP_AFFINITY: OS proc 7 maps to package 0 core 7 thread 0 \n",
      "OMP: Info #171: KMP_AFFINITY: OS proc 31 maps to package 0 core 7 thread 1 \n",
      "OMP: Info #171: KMP_AFFINITY: OS proc 8 maps to package 0 core 8 thread 0 \n",
      "OMP: Info #171: KMP_AFFINITY: OS proc 32 maps to package 0 core 8 thread 1 \n",
      "OMP: Info #171: KMP_AFFINITY: OS proc 9 maps to package 0 core 9 thread 0 \n",
      "OMP: Info #171: KMP_AFFINITY: OS proc 33 maps to package 0 core 9 thread 1 \n",
      "OMP: Info #171: KMP_AFFINITY: OS proc 10 maps to package 0 core 10 thread 0 \n",
      "OMP: Info #171: KMP_AFFINITY: OS proc 34 maps to package 0 core 10 thread 1 \n",
      "OMP: Info #171: KMP_AFFINITY: OS proc 11 maps to package 0 core 11 thread 0 \n",
      "OMP: Info #171: KMP_AFFINITY: OS proc 35 maps to package 0 core 11 thread 1 \n",
      "OMP: Info #171: KMP_AFFINITY: OS proc 12 maps to package 0 core 12 thread 0 \n",
      "OMP: Info #171: KMP_AFFINITY: OS proc 36 maps to package 0 core 12 thread 1 \n",
      "OMP: Info #171: KMP_AFFINITY: OS proc 13 maps to package 0 core 13 thread 0 \n",
      "OMP: Info #171: KMP_AFFINITY: OS proc 37 maps to package 0 core 13 thread 1 \n",
      "OMP: Info #171: KMP_AFFINITY: OS proc 14 maps to package 0 core 14 thread 0 \n",
      "OMP: Info #171: KMP_AFFINITY: OS proc 38 maps to package 0 core 14 thread 1 \n",
      "OMP: Info #171: KMP_AFFINITY: OS proc 15 maps to package 0 core 15 thread 0 \n",
      "OMP: Info #171: KMP_AFFINITY: OS proc 39 maps to package 0 core 15 thread 1 \n",
      "OMP: Info #171: KMP_AFFINITY: OS proc 16 maps to package 0 core 16 thread 0 \n",
      "OMP: Info #171: KMP_AFFINITY: OS proc 40 maps to package 0 core 16 thread 1 \n",
      "OMP: Info #171: KMP_AFFINITY: OS proc 17 maps to package 0 core 17 thread 0 \n",
      "OMP: Info #171: KMP_AFFINITY: OS proc 41 maps to package 0 core 17 thread 1 \n",
      "OMP: Info #171: KMP_AFFINITY: OS proc 18 maps to package 0 core 18 thread 0 \n",
      "OMP: Info #171: KMP_AFFINITY: OS proc 42 maps to package 0 core 18 thread 1 \n",
      "OMP: Info #171: KMP_AFFINITY: OS proc 19 maps to package 0 core 19 thread 0 \n",
      "OMP: Info #171: KMP_AFFINITY: OS proc 43 maps to package 0 core 19 thread 1 \n",
      "OMP: Info #171: KMP_AFFINITY: OS proc 20 maps to package 0 core 20 thread 0 \n",
      "OMP: Info #171: KMP_AFFINITY: OS proc 44 maps to package 0 core 20 thread 1 \n",
      "OMP: Info #171: KMP_AFFINITY: OS proc 21 maps to package 0 core 21 thread 0 \n",
      "OMP: Info #171: KMP_AFFINITY: OS proc 45 maps to package 0 core 21 thread 1 \n",
      "OMP: Info #171: KMP_AFFINITY: OS proc 22 maps to package 0 core 22 thread 0 \n",
      "OMP: Info #171: KMP_AFFINITY: OS proc 46 maps to package 0 core 22 thread 1 \n",
      "OMP: Info #171: KMP_AFFINITY: OS proc 23 maps to package 0 core 23 thread 0 \n",
      "OMP: Info #171: KMP_AFFINITY: OS proc 47 maps to package 0 core 23 thread 1 \n",
      "OMP: Info #249: KMP_AFFINITY: pid 639 tid 639 thread 0 bound to OS proc set 0\n",
      "OMP: Info #249: KMP_AFFINITY: pid 639 tid 843 thread 1 bound to OS proc set 1\n",
      "OMP: Info #249: KMP_AFFINITY: pid 639 tid 844 thread 2 bound to OS proc set 2\n",
      "OMP: Info #249: KMP_AFFINITY: pid 639 tid 845 thread 3 bound to OS proc set 3\n",
      "OMP: Info #249: KMP_AFFINITY: pid 639 tid 846 thread 4 bound to OS proc set 4\n",
      "OMP: Info #249: KMP_AFFINITY: pid 639 tid 847 thread 5 bound to OS proc set 5\n",
      "OMP: Info #249: KMP_AFFINITY: pid 639 tid 848 thread 6 bound to OS proc set 6\n",
      "OMP: Info #249: KMP_AFFINITY: pid 639 tid 849 thread 7 bound to OS proc set 7\n",
      "OMP: Info #249: KMP_AFFINITY: pid 639 tid 850 thread 8 bound to OS proc set 8\n",
      "OMP: Info #249: KMP_AFFINITY: pid 639 tid 851 thread 9 bound to OS proc set 9\n",
      "OMP: Info #249: KMP_AFFINITY: pid 639 tid 852 thread 10 bound to OS proc set 10\n",
      "OMP: Info #249: KMP_AFFINITY: pid 639 tid 853 thread 11 bound to OS proc set 11\n",
      "OMP: Info #249: KMP_AFFINITY: pid 639 tid 854 thread 12 bound to OS proc set 12\n",
      "OMP: Info #249: KMP_AFFINITY: pid 639 tid 855 thread 13 bound to OS proc set 13\n",
      "OMP: Info #249: KMP_AFFINITY: pid 639 tid 856 thread 14 bound to OS proc set 14\n",
      "OMP: Info #249: KMP_AFFINITY: pid 639 tid 857 thread 15 bound to OS proc set 15\n",
      "OMP: Info #249: KMP_AFFINITY: pid 639 tid 858 thread 16 bound to OS proc set 16\n",
      "OMP: Info #249: KMP_AFFINITY: pid 639 tid 860 thread 18 bound to OS proc set 18\n",
      "OMP: Info #249: KMP_AFFINITY: pid 639 tid 861 thread 19 bound to OS proc set 19\n",
      "OMP: Info #249: KMP_AFFINITY: pid 639 tid 862 thread 20 bound to OS proc set 20\n",
      "OMP: Info #249: KMP_AFFINITY: pid 639 tid 859 thread 17 bound to OS proc set 17\n",
      "OMP: Info #249: KMP_AFFINITY: pid 639 tid 863 thread 21 bound to OS proc set 21\n",
      "OMP: Info #249: KMP_AFFINITY: pid 639 tid 864 thread 22 bound to OS proc set 22\n",
      "OMP: Info #249: KMP_AFFINITY: pid 639 tid 865 thread 23 bound to OS proc set 23\n",
      "Some layers from the model checkpoint at distilbert-base-uncased were not used when initializing TFDistilBertForSequenceClassification: ['vocab_transform', 'vocab_layer_norm', 'vocab_projector', 'activation_13']\n",
      "- This IS expected if you are initializing TFDistilBertForSequenceClassification from the checkpoint of a model trained on another task or with another architecture (e.g. initializing a BertForSequenceClassification model from a BertForPreTraining model).\n",
      "- This IS NOT expected if you are initializing TFDistilBertForSequenceClassification from the checkpoint of a model that you expect to be exactly identical (initializing a BertForSequenceClassification model from a BertForSequenceClassification model).\n",
      "Some layers of TFDistilBertForSequenceClassification were not initialized from the model checkpoint at distilbert-base-uncased and are newly initialized: ['dropout_19', 'pre_classifier', 'classifier']\n",
      "You should probably TRAIN this model on a down-stream task to be able to use it for predictions and inference.\n",
      "/usr/local/lib/python3.8/dist-packages/transformers/trainer_tf.py:109: FutureWarning: The class `TFTrainer` is deprecated and will be removed in version 5 of Transformers. We recommend using native Keras instead, by calling methods like `fit()` and `predict()` directly on the model object. Detailed examples of the Keras style can be found in our examples at https://github.com/huggingface/transformers/tree/master/examples/tensorflow\n",
      "  warnings.warn(\n",
      "2021-10-01 19:28:13.950057: W tensorflow/core/grappler/optimizers/data/auto_shard.cc:695] AUTO sharding policy will apply DATA sharding policy as it failed to apply FILE sharding policy because of the following reason: Found an unshardable source dataset: name: \"TensorSliceDataset/_3\"\n",
      "op: \"TensorSliceDataset\"\n",
      "input: \"Placeholder/_0\"\n",
      "input: \"Placeholder/_1\"\n",
      "input: \"Placeholder/_2\"\n",
      "attr {\n",
      "  key: \"Toutput_types\"\n",
      "  value {\n",
      "    list {\n",
      "      type: DT_INT32\n",
      "      type: DT_INT32\n",
      "      type: DT_INT32\n",
      "    }\n",
      "  }\n",
      "}\n",
      "attr {\n",
      "  key: \"output_shapes\"\n",
      "  value {\n",
      "    list {\n",
      "      shape {\n",
      "        dim {\n",
      "          size: 512\n",
      "        }\n",
      "      }\n",
      "      shape {\n",
      "        dim {\n",
      "          size: 512\n",
      "        }\n",
      "      }\n",
      "      shape {\n",
      "      }\n",
      "    }\n",
      "  }\n",
      "}\n",
      "\n",
      "2021-10-01 19:28:14.000429: W tensorflow/core/framework/dataset.cc:679] Input of GeneratorDatasetOp::Dataset will not be optimized because the dataset does not implement the AsGraphDefInternal() method needed to apply optimizations.\n",
      "2021-10-01 19:28:14.001411: I tensorflow/compiler/mlir/mlir_graph_optimization_pass.cc:185] None of the MLIR Optimization Passes are enabled (registered 2)\n",
      "OMP: Info #249: KMP_AFFINITY: pid 639 tid 840 thread 24 bound to OS proc set 24\n",
      "OMP: Info #249: KMP_AFFINITY: pid 639 tid 875 thread 25 bound to OS proc set 25\n",
      "OMP: Info #249: KMP_AFFINITY: pid 639 tid 876 thread 26 bound to OS proc set 26\n",
      "OMP: Info #249: KMP_AFFINITY: pid 639 tid 877 thread 27 bound to OS proc set 27\n",
      "OMP: Info #249: KMP_AFFINITY: pid 639 tid 878 thread 28 bound to OS proc set 28\n",
      "OMP: Info #249: KMP_AFFINITY: pid 639 tid 879 thread 29 bound to OS proc set 29\n",
      "OMP: Info #249: KMP_AFFINITY: pid 639 tid 880 thread 30 bound to OS proc set 30\n",
      "OMP: Info #249: KMP_AFFINITY: pid 639 tid 881 thread 31 bound to OS proc set 31\n",
      "OMP: Info #249: KMP_AFFINITY: pid 639 tid 882 thread 32 bound to OS proc set 32\n",
      "OMP: Info #249: KMP_AFFINITY: pid 639 tid 883 thread 33 bound to OS proc set 33\n",
      "OMP: Info #249: KMP_AFFINITY: pid 639 tid 884 thread 34 bound to OS proc set 34\n",
      "OMP: Info #249: KMP_AFFINITY: pid 639 tid 885 thread 35 bound to OS proc set 35\n",
      "OMP: Info #249: KMP_AFFINITY: pid 639 tid 886 thread 36 bound to OS proc set 36\n",
      "OMP: Info #249: KMP_AFFINITY: pid 639 tid 887 thread 37 bound to OS proc set 37\n",
      "OMP: Info #249: KMP_AFFINITY: pid 639 tid 888 thread 38 bound to OS proc set 38\n",
      "OMP: Info #249: KMP_AFFINITY: pid 639 tid 889 thread 39 bound to OS proc set 39\n",
      "OMP: Info #249: KMP_AFFINITY: pid 639 tid 890 thread 40 bound to OS proc set 40\n",
      "OMP: Info #249: KMP_AFFINITY: pid 639 tid 891 thread 41 bound to OS proc set 41\n",
      "OMP: Info #249: KMP_AFFINITY: pid 639 tid 892 thread 42 bound to OS proc set 42\n",
      "OMP: Info #249: KMP_AFFINITY: pid 639 tid 893 thread 43 bound to OS proc set 43\n",
      "OMP: Info #249: KMP_AFFINITY: pid 639 tid 894 thread 44 bound to OS proc set 44\n",
      "OMP: Info #249: KMP_AFFINITY: pid 639 tid 895 thread 45 bound to OS proc set 45\n",
      "OMP: Info #249: KMP_AFFINITY: pid 639 tid 896 thread 46 bound to OS proc set 46\n",
      "OMP: Info #249: KMP_AFFINITY: pid 639 tid 897 thread 47 bound to OS proc set 47\n",
      "OMP: Info #249: KMP_AFFINITY: pid 639 tid 898 thread 48 bound to OS proc set 0\n",
      "OMP: Info #249: KMP_AFFINITY: pid 639 tid 899 thread 49 bound to OS proc set 1\n",
      "OMP: Info #249: KMP_AFFINITY: pid 639 tid 900 thread 50 bound to OS proc set 2\n",
      "OMP: Info #249: KMP_AFFINITY: pid 639 tid 901 thread 51 bound to OS proc set 3\n",
      "OMP: Info #249: KMP_AFFINITY: pid 639 tid 902 thread 52 bound to OS proc set 4\n",
      "OMP: Info #249: KMP_AFFINITY: pid 639 tid 903 thread 53 bound to OS proc set 5\n",
      "OMP: Info #249: KMP_AFFINITY: pid 639 tid 904 thread 54 bound to OS proc set 6\n",
      "OMP: Info #249: KMP_AFFINITY: pid 639 tid 905 thread 55 bound to OS proc set 7\n",
      "OMP: Info #249: KMP_AFFINITY: pid 639 tid 906 thread 56 bound to OS proc set 8\n",
      "OMP: Info #249: KMP_AFFINITY: pid 639 tid 907 thread 57 bound to OS proc set 9\n",
      "OMP: Info #249: KMP_AFFINITY: pid 639 tid 908 thread 58 bound to OS proc set 10\n",
      "OMP: Info #249: KMP_AFFINITY: pid 639 tid 909 thread 59 bound to OS proc set 11\n",
      "OMP: Info #249: KMP_AFFINITY: pid 639 tid 910 thread 60 bound to OS proc set 12\n",
      "OMP: Info #249: KMP_AFFINITY: pid 639 tid 911 thread 61 bound to OS proc set 13\n",
      "OMP: Info #249: KMP_AFFINITY: pid 639 tid 912 thread 62 bound to OS proc set 14\n",
      "OMP: Info #249: KMP_AFFINITY: pid 639 tid 913 thread 63 bound to OS proc set 15\n",
      "OMP: Info #249: KMP_AFFINITY: pid 639 tid 914 thread 64 bound to OS proc set 16\n",
      "OMP: Info #249: KMP_AFFINITY: pid 639 tid 915 thread 65 bound to OS proc set 17\n",
      "OMP: Info #249: KMP_AFFINITY: pid 639 tid 916 thread 66 bound to OS proc set 18\n",
      "OMP: Info #249: KMP_AFFINITY: pid 639 tid 917 thread 67 bound to OS proc set 19\n",
      "OMP: Info #249: KMP_AFFINITY: pid 639 tid 918 thread 68 bound to OS proc set 20\n",
      "OMP: Info #249: KMP_AFFINITY: pid 639 tid 919 thread 69 bound to OS proc set 21\n",
      "OMP: Info #249: KMP_AFFINITY: pid 639 tid 920 thread 70 bound to OS proc set 22\n",
      "OMP: Info #249: KMP_AFFINITY: pid 639 tid 921 thread 71 bound to OS proc set 23\n",
      "OMP: Info #249: KMP_AFFINITY: pid 639 tid 841 thread 72 bound to OS proc set 24\n",
      "OMP: Info #249: KMP_AFFINITY: pid 639 tid 922 thread 73 bound to OS proc set 25\n",
      "OMP: Info #249: KMP_AFFINITY: pid 639 tid 923 thread 74 bound to OS proc set 26\n",
      "OMP: Info #249: KMP_AFFINITY: pid 639 tid 924 thread 75 bound to OS proc set 27\n",
      "OMP: Info #249: KMP_AFFINITY: pid 639 tid 925 thread 76 bound to OS proc set 28\n",
      "OMP: Info #249: KMP_AFFINITY: pid 639 tid 926 thread 77 bound to OS proc set 29\n",
      "OMP: Info #249: KMP_AFFINITY: pid 639 tid 927 thread 78 bound to OS proc set 30\n",
      "OMP: Info #249: KMP_AFFINITY: pid 639 tid 928 thread 79 bound to OS proc set 31\n",
      "OMP: Info #249: KMP_AFFINITY: pid 639 tid 929 thread 80 bound to OS proc set 32\n",
      "OMP: Info #249: KMP_AFFINITY: pid 639 tid 930 thread 81 bound to OS proc set 33\n",
      "OMP: Info #249: KMP_AFFINITY: pid 639 tid 931 thread 82 bound to OS proc set 34\n",
      "OMP: Info #249: KMP_AFFINITY: pid 639 tid 932 thread 83 bound to OS proc set 35\n",
      "OMP: Info #249: KMP_AFFINITY: pid 639 tid 933 thread 84 bound to OS proc set 36\n",
      "OMP: Info #249: KMP_AFFINITY: pid 639 tid 934 thread 85 bound to OS proc set 37\n",
      "OMP: Info #249: KMP_AFFINITY: pid 639 tid 935 thread 86 bound to OS proc set 38\n",
      "OMP: Info #249: KMP_AFFINITY: pid 639 tid 936 thread 87 bound to OS proc set 39\n",
      "OMP: Info #249: KMP_AFFINITY: pid 639 tid 937 thread 88 bound to OS proc set 40\n",
      "OMP: Info #249: KMP_AFFINITY: pid 639 tid 938 thread 89 bound to OS proc set 41\n",
      "OMP: Info #249: KMP_AFFINITY: pid 639 tid 939 thread 90 bound to OS proc set 42\n",
      "OMP: Info #249: KMP_AFFINITY: pid 639 tid 940 thread 91 bound to OS proc set 43\n",
      "OMP: Info #249: KMP_AFFINITY: pid 639 tid 941 thread 92 bound to OS proc set 44\n",
      "OMP: Info #249: KMP_AFFINITY: pid 639 tid 942 thread 93 bound to OS proc set 45\n",
      "OMP: Info #249: KMP_AFFINITY: pid 639 tid 943 thread 94 bound to OS proc set 46\n",
      "OMP: Info #249: KMP_AFFINITY: pid 639 tid 944 thread 95 bound to OS proc set 47\n",
      "OMP: Info #249: KMP_AFFINITY: pid 639 tid 945 thread 96 bound to OS proc set 0\n",
      "OMP: Info #249: KMP_AFFINITY: pid 639 tid 946 thread 97 bound to OS proc set 1\n",
      "OMP: Info #249: KMP_AFFINITY: pid 639 tid 947 thread 98 bound to OS proc set 2\n",
      "OMP: Info #249: KMP_AFFINITY: pid 639 tid 948 thread 99 bound to OS proc set 3\n",
      "OMP: Info #249: KMP_AFFINITY: pid 639 tid 949 thread 100 bound to OS proc set 4\n",
      "OMP: Info #249: KMP_AFFINITY: pid 639 tid 950 thread 101 bound to OS proc set 5\n",
      "OMP: Info #249: KMP_AFFINITY: pid 639 tid 951 thread 102 bound to OS proc set 6\n",
      "OMP: Info #249: KMP_AFFINITY: pid 639 tid 952 thread 103 bound to OS proc set 7\n",
      "OMP: Info #249: KMP_AFFINITY: pid 639 tid 953 thread 104 bound to OS proc set 8\n",
      "OMP: Info #249: KMP_AFFINITY: pid 639 tid 954 thread 105 bound to OS proc set 9\n",
      "OMP: Info #249: KMP_AFFINITY: pid 639 tid 955 thread 106 bound to OS proc set 10\n",
      "OMP: Info #249: KMP_AFFINITY: pid 639 tid 956 thread 107 bound to OS proc set 11\n",
      "OMP: Info #249: KMP_AFFINITY: pid 639 tid 957 thread 108 bound to OS proc set 12\n",
      "OMP: Info #249: KMP_AFFINITY: pid 639 tid 958 thread 109 bound to OS proc set 13\n",
      "OMP: Info #249: KMP_AFFINITY: pid 639 tid 959 thread 110 bound to OS proc set 14\n",
      "OMP: Info #249: KMP_AFFINITY: pid 639 tid 960 thread 111 bound to OS proc set 15\n",
      "OMP: Info #249: KMP_AFFINITY: pid 639 tid 961 thread 112 bound to OS proc set 16\n",
      "OMP: Info #249: KMP_AFFINITY: pid 639 tid 962 thread 113 bound to OS proc set 17\n",
      "OMP: Info #249: KMP_AFFINITY: pid 639 tid 963 thread 114 bound to OS proc set 18\n",
      "OMP: Info #249: KMP_AFFINITY: pid 639 tid 964 thread 115 bound to OS proc set 19\n",
      "OMP: Info #249: KMP_AFFINITY: pid 639 tid 965 thread 116 bound to OS proc set 20\n",
      "OMP: Info #249: KMP_AFFINITY: pid 639 tid 966 thread 117 bound to OS proc set 21\n",
      "OMP: Info #249: KMP_AFFINITY: pid 639 tid 967 thread 118 bound to OS proc set 22\n",
      "OMP: Info #249: KMP_AFFINITY: pid 639 tid 968 thread 119 bound to OS proc set 23\n",
      "2021-10-01 20:15:55.975089: W tensorflow/core/framework/dataset.cc:679] Input of GeneratorDatasetOp::Dataset will not be optimized because the dataset does not implement the AsGraphDefInternal() method needed to apply optimizations.\n",
      "2021-10-01 21:04:17.973873: W tensorflow/core/framework/dataset.cc:679] Input of GeneratorDatasetOp::Dataset will not be optimized because the dataset does not implement the AsGraphDefInternal() method needed to apply optimizations.\n"
     ]
    }
   ],
   "source": [
    "\n",
    "from transformers import TFDistilBertForSequenceClassification, TFTrainer, TFTrainingArguments\n",
    "\n",
    "training_args = TFTrainingArguments(\n",
    "    output_dir='./results',          # output directory\n",
    "    num_train_epochs=3,              # total number of training epochs\n",
    "    per_device_train_batch_size=16,  # batch size per device during training\n",
    "    per_device_eval_batch_size=64,   # batch size for evaluation\n",
    "    warmup_steps=500,                # number of warmup steps for learning rate scheduler\n",
    "    weight_decay=0.01,               # strength of weight decay\n",
    "    logging_dir='./logs',            # directory for storing logs\n",
    "    logging_steps=10,\n",
    "    eval_steps=1\n",
    ")\n",
    "\n",
    "with training_args.strategy.scope():\n",
    "    model = TFDistilBertForSequenceClassification.from_pretrained(\"distilbert-base-uncased\")\n",
    "\n",
    "trainer = TFTrainer(\n",
    "    model=model,                         # the instantiated 🤗 Transformers model to be trained\n",
    "    args=training_args,                  # training arguments, defined above\n",
    "    train_dataset=train_dataset,         # training dataset\n",
    "    eval_dataset=val_dataset             # evaluation dataset\n",
    ")\n",
    "\n",
    "a = trainer.train()\n",
    "\n"
   ]
  },
  {
   "cell_type": "code",
   "execution_count": 8,
   "id": "2dc19f06",
   "metadata": {},
   "outputs": [],
   "source": [
    "trainer.save_model()"
   ]
  },
  {
   "cell_type": "code",
   "execution_count": null,
   "id": "b36349cd-571f-46ed-9896-c7857cdfe743",
   "metadata": {},
   "outputs": [],
   "source": []
  },
  {
   "cell_type": "code",
   "execution_count": 35,
   "id": "ce0a1345-1ee0-4f10-a06c-8fba2436816a",
   "metadata": {
    "collapsed": true,
    "jupyter": {
     "outputs_hidden": true
    },
    "tags": []
   },
   "outputs": [
    {
     "name": "stdout",
     "output_type": "stream",
     "text": [
      "0.25\n",
      "0.10751528227256382\n",
      "0.06023368251410153\n",
      "0.20395634379263297\n",
      "0.07040263715563927\n",
      "0.1816524908869988\n",
      "0.050489699425869644\n",
      "0.14070588235294118\n",
      "0.08059299191374662\n",
      "0.21235795454545453\n",
      "0.049974928965401975\n",
      "0.04923431582413963\n",
      "0.15123925139099648\n",
      "0.1121951219512195\n",
      "0.07035294117647059\n",
      "0.11743912018853103\n",
      "0.20763888888888887\n",
      "0.0661504424778761\n",
      "0.05429453422916288\n",
      "0.05342147579060211\n",
      "0.0665775996437319\n",
      "0.049210006583278475\n",
      "0.06838975297346751\n",
      "0.09154929577464789\n",
      "0.07561962569549824\n",
      "0.0950111217032094\n",
      "0.08455882352941174\n",
      "0.07617834394904457\n",
      "0.11865079365079366\n",
      "0.03606320106139187\n",
      "0.03567593365946784\n",
      "0.05769972983404092\n",
      "0.03492582642214694\n",
      "0.03579980842911877\n",
      "0.03420661251573046\n",
      "0.05702841884417319\n",
      "0.03351642192579307\n",
      "0.0551355338373594\n",
      "0.054235443497188465\n",
      "0.08518518518518518\n",
      "0.04340252576571345\n",
      "0.06972947761194029\n",
      "0.03617664851784634\n",
      "0.05902092380576391\n",
      "0.03419487648673376\n",
      "0.030726544034528826\n",
      "0.034666666666666665\n",
      "0.039765926319989355\n",
      "0.05141874462596732\n",
      "0.03738434608652163\n",
      "0.03327768503060657\n",
      "0.03294765840220385\n",
      "0.050884955752212385\n",
      "0.047725458898643255\n",
      "0.044935377216711744\n",
      "0.04245349992900752\n",
      "0.056002996815883124\n",
      "0.03315958744593545\n",
      "0.05727969348659004\n",
      "0.038821085432355226\n",
      "0.032195542155701515\n",
      "0.039430304628774886\n",
      "0.04054787089774885\n",
      "0.040058949624866017\n",
      "0.047027367096571245\n",
      "0.04070796460176991\n",
      "0.029527947857001774\n",
      "0.02553155153274699\n",
      "0.028194247996228192\n",
      "0.0325\n",
      "0.028514209422086594\n",
      "0.03524696451726983\n",
      "0.02884151634995659\n",
      "0.029434928135459736\n",
      "0.04296594338266992\n",
      "0.024052771297562545\n",
      "0.028672803989259688\n",
      "0.03014112903225806\n",
      "0.028186274509803922\n",
      "0.023375811117191773\n",
      "0.023764107455094576\n",
      "0.023051422403823914\n",
      "0.023991013399663003\n",
      "0.024400195854414882\n",
      "0.0380455528693218\n",
      "0.02404696799099244\n",
      "0.03461850179460461\n",
      "0.024883488681757656\n",
      "0.02469849661324963\n",
      "0.03598507642315561\n",
      "0.029333856568233105\n",
      "0.023046092184368733\n",
      "0.022375215146299483\n",
      "0.025004181301220937\n",
      "0.03413631693115652\n",
      "0.02193207657888946\n",
      "0.02445207719986915\n",
      "0.022125203492674262\n",
      "0.03278868296962386\n",
      "0.027933482810164424\n",
      "0.02557522880848516\n",
      "0.022521843928894246\n",
      "0.023417919799498744\n",
      "0.024997909873756375\n",
      "0.024811218985976265\n",
      "0.021927251393370487\n",
      "0.027095604893520614\n",
      "0.02212029296441518\n",
      "0.0240915317057449\n",
      "0.019301529920599057\n",
      "0.029316599666633983\n",
      "0.020238256396372004\n",
      "0.026516495211067755\n",
      "0.020827528559487322\n",
      "0.020697771009275924\n",
      "0.027310924369747896\n",
      "0.01964004203888597\n",
      "0.026166097838452786\n",
      "0.024680148576145273\n",
      "0.01858066119811086\n",
      "0.01882515897500472\n",
      "0.024739367863643884\n",
      "0.020524437122460184\n",
      "0.01999063983419135\n",
      "0.021130742049469964\n",
      "0.019370303187354235\n",
      "0.026366843033509696\n",
      "0.023133462282398452\n",
      "0.019037310581943204\n",
      "0.017596516007532956\n",
      "0.022157996146435453\n",
      "0.01871557336004006\n",
      "0.0239621734252284\n",
      "0.020818827461356354\n",
      "0.019867109634551496\n",
      "0.021912788567240746\n",
      "0.022760143107254317\n",
      "0.02312809405940594\n",
      "0.02245250431778929\n",
      "0.017908481073310972\n",
      "0.01881805022342501\n",
      "0.022501505117399158\n",
      "0.017023457071282166\n",
      "0.018167456556082148\n",
      "0.016850766456266906\n",
      "0.015962842346911536\n",
      "0.02043047488896481\n",
      "0.017778570579141395\n",
      "0.016247350975384448\n",
      "0.01759030474173432\n",
      "0.021668236828755703\n",
      "0.019821014252568773\n",
      "0.01793641271745651\n",
      "0.015611946532999164\n",
      "0.019859192348565355\n",
      "0.01935901586273875\n",
      "0.01962457337883959\n",
      "0.019135999999999997\n",
      "0.0205937048006061\n",
      "0.016431279881299114\n",
      "0.01749458779474577\n",
      "0.017402945113788485\n",
      "0.015933070446552275\n",
      "0.017222510224065433\n",
      "0.018394340203014455\n",
      "0.018987743697212164\n",
      "0.018529995042141794\n",
      "0.017772230147408464\n",
      "0.019775132275132272\n",
      "0.014312383322962039\n",
      "0.016900293918155097\n",
      "0.019428200129954516\n",
      "0.015203905217126003\n",
      "0.014909000249314385\n",
      "0.014842392653263838\n",
      "0.014352229635674169\n",
      "0.018876262626262626\n",
      "0.013835546712322429\n",
      "0.014581809314801268\n",
      "0.01642586386859309\n",
      "0.016616649994442595\n",
      "0.013796603912882982\n",
      "0.014330218068535823\n",
      "0.014475213013168085\n",
      "0.014623172103487063\n",
      "0.01435016317911307\n",
      "0.01724535701926404\n",
      "0.013282395273421883\n",
      "0.013229503119331002\n",
      "0.017577895355673133\n",
      "0.015578596363257438\n",
      "0.013424325416423471\n",
      "0.015199267995119966\n",
      "0.012971237690338814\n",
      "0.0132635407887149\n",
      "0.015456989247311826\n",
      "0.016667595741122695\n",
      "0.01555266579973992\n",
      "0.015723601177955404\n",
      "0.016420451425119446\n",
      "0.014044811874677062\n",
      "0.0162597204850726\n",
      "0.015431461601981835\n",
      "0.016102105659970917\n",
      "0.012593715777946253\n",
      "0.012390700758360615\n",
      "0.014083180255287079\n",
      "0.01382978723404255\n",
      "0.015477792732166889\n",
      "0.01564707729342195\n",
      "0.015103298479567609\n",
      "0.013069895528259823\n",
      "0.014532199270959903\n",
      "0.014468908782966366\n",
      "0.013621247323584346\n",
      "0.011945187966921018\n",
      "0.011902392420683888\n",
      "0.012002247912652536\n",
      "0.012103793061571468\n",
      "0.014100448007545388\n",
      "0.01246560493621279\n",
      "0.011831275720164609\n",
      "0.012849714212041771\n",
      "0.014679169325936471\n",
      "0.014404085171981888\n",
      "0.013033433590514797\n",
      "0.012816116588084011\n",
      "0.01260592773725705\n",
      "0.012402521984403517\n",
      "0.014098453413806111\n",
      "0.012160898035547239\n",
      "0.011556448807637305\n",
      "0.013921221715243504\n",
      "0.012636828536410126\n",
      "0.011704834605597963\n",
      "0.013380470777767833\n",
      "0.013506798572525635\n",
      "0.012604333530056487\n",
      "0.012249078246620236\n",
      "0.011371415532060546\n",
      "0.011731470945972456\n",
      "0.011294099871572106\n",
      "0.012683464834139305\n",
      "0.012635226504394862\n",
      "0.010817264208964943\n",
      "0.01337867466105866\n",
      "0.01297912054520988\n",
      "0.010828625235404895\n",
      "0.011031582054309326\n",
      "0.01299547983310153\n",
      "0.011080229757272558\n",
      "0.010576208835909588\n",
      "0.011785108982696779\n",
      "0.011216566005176875\n",
      "0.010476157107319296\n",
      "0.011526599845797994\n",
      "0.011756841774142811\n",
      "0.01071147094647847\n",
      "0.010453814418572127\n",
      "0.010313545583112\n",
      "0.011203117389186557\n",
      "0.012112128331848009\n",
      "0.010218379412870373\n",
      "0.010291890403414565\n",
      "0.010585944414940696\n",
      "0.010442131731507997\n",
      "0.01051890941072999\n",
      "0.010485709275819743\n",
      "0.011672847940659769\n",
      "0.01000301093974775\n",
      "0.01132876141401129\n",
      "0.011040951220412836\n",
      "0.011380071553627158\n",
      "0.012169312169312168\n",
      "0.011699338733028133\n",
      "0.01208080808080808\n",
      "0.010301109350237718\n",
      "0.011577031788438455\n",
      "0.011150891325427015\n",
      "0.009710629729466402\n",
      "0.010279506308660225\n",
      "0.010247797923021558\n",
      "0.011643755597959422\n",
      "0.01050597329585383\n",
      "0.010364310721342161\n",
      "0.009728955845508086\n",
      "0.01085930122757318\n",
      "0.011575687185443282\n",
      "0.010788771018257919\n",
      "0.010417755478903173\n",
      "0.01049417380317282\n",
      "0.011161714200388232\n",
      "0.010320665493079285\n",
      "0.01028870307284677\n",
      "0.009569837408782485\n",
      "0.009452154395725982\n",
      "0.010091123860951737\n",
      "0.01118593340815563\n",
      "0.010787603275967818\n",
      "0.01\n"
     ]
    }
   ],
   "source": [
    "import random\n",
    "import numpy as np\n",
    "b=[]\n",
    "buffer = range(-10,10)\n",
    "for i in np.linspace(10,100,300):\n",
    "    a = i + random.choice(buffer)\n",
    "    if a != 0:\n",
    "        print(1/(a))\n",
    "        b.append(1/(a))\n",
    "        \n",
    "    \n",
    "    "
   ]
  },
  {
   "cell_type": "code",
   "execution_count": 28,
   "id": "385d99fa-c10a-438d-94da-5f08cac7d0f2",
   "metadata": {},
   "outputs": [
    {
     "name": "stdout",
     "output_type": "stream",
     "text": [
      "huggingface/tokenizers: The current process just got forked, after parallelism has already been used. Disabling parallelism to avoid deadlocks...\n",
      "To disable this warning, you can either:\n",
      "\t- Avoid using `tokenizers` before the fork if possible\n",
      "\t- Explicitly set the environment variable TOKENIZERS_PARALLELISM=(true | false)\n"
     ]
    }
   ],
   "source": [
    "from matplotlib import pyplot as plt"
   ]
  },
  {
   "cell_type": "code",
   "execution_count": 36,
   "id": "548d4af6-7c30-48ec-b4a8-72f9bf663862",
   "metadata": {},
   "outputs": [
    {
     "data": {
      "text/plain": [
       "[<matplotlib.lines.Line2D at 0x7feb66225fa0>]"
      ]
     },
     "execution_count": 36,
     "metadata": {},
     "output_type": "execute_result"
    },
    {
     "data": {
      "image/png": "[encoded data removed]",
      "text/plain": [
       "<Figure size 432x288 with 1 Axes>"
      ]
     },
     "metadata": {
      "needs_background": "light"
     },
     "output_type": "display_data"
    }
   ],
   "source": [
    "plt.plot(b)"
   ]
  },
  {
   "cell_type": "code",
   "execution_count": null,
   "id": "77cf2b3d-c446-4a2f-a37d-7f99225dffbf",
   "metadata": {},
   "outputs": [],
   "source": []
  }
 ],
 "metadata": {
  "kernelspec": {
   "display_name": "Python 3 (ipykernel)",
   "language": "python",
   "name": "python3"
  },
  "language_info": {
   "codemirror_mode": {
    "name": "ipython",
    "version": 3
   },
   "file_extension": ".py",
   "mimetype": "text/x-python",
   "name": "python",
   "nbconvert_exporter": "python",
   "pygments_lexer": "ipython3",
   "version": "3.8.10"
  }
 },
 "nbformat": 4,
 "nbformat_minor": 5
}
